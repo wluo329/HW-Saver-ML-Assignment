{
 "cells": [
  {
   "cell_type": "code",
   "execution_count": 101,
   "id": "854f9487-4d72-4b3a-9c63-25f3f66acd8d",
   "metadata": {},
   "outputs": [],
   "source": [
    "import numpy as np\n",
    "import pandas as pd"
   ]
  },
  {
   "cell_type": "code",
   "execution_count": 102,
   "id": "043cb485-3757-4c83-8565-4fc2fe4f83e2",
   "metadata": {},
   "outputs": [
    {
     "data": {
      "text/html": [
       "<div>\n",
       "<style scoped>\n",
       "    .dataframe tbody tr th:only-of-type {\n",
       "        vertical-align: middle;\n",
       "    }\n",
       "\n",
       "    .dataframe tbody tr th {\n",
       "        vertical-align: top;\n",
       "    }\n",
       "\n",
       "    .dataframe thead th {\n",
       "        text-align: right;\n",
       "    }\n",
       "</style>\n",
       "<table border=\"1\" class=\"dataframe\">\n",
       "  <thead>\n",
       "    <tr style=\"text-align: right;\">\n",
       "      <th></th>\n",
       "      <th>RAW DATA</th>\n",
       "    </tr>\n",
       "  </thead>\n",
       "  <tbody>\n",
       "    <tr>\n",
       "      <th>0</th>\n",
       "      <td>What ifs</td>\n",
       "    </tr>\n",
       "    <tr>\n",
       "      <th>1</th>\n",
       "      <td>seniority</td>\n",
       "    </tr>\n",
       "    <tr>\n",
       "      <th>2</th>\n",
       "      <td>familiarity</td>\n",
       "    </tr>\n",
       "    <tr>\n",
       "      <th>3</th>\n",
       "      <td>functionalities</td>\n",
       "    </tr>\n",
       "    <tr>\n",
       "      <th>4</th>\n",
       "      <td>Lambdas</td>\n",
       "    </tr>\n",
       "    <tr>\n",
       "      <th>5</th>\n",
       "      <td>Java Streams</td>\n",
       "    </tr>\n",
       "    <tr>\n",
       "      <th>6</th>\n",
       "      <td>Object Oriented analysis</td>\n",
       "    </tr>\n",
       "    <tr>\n",
       "      <th>7</th>\n",
       "      <td>Relational Databases</td>\n",
       "    </tr>\n",
       "    <tr>\n",
       "      <th>8</th>\n",
       "      <td>SQL</td>\n",
       "    </tr>\n",
       "    <tr>\n",
       "      <th>9</th>\n",
       "      <td>ORM</td>\n",
       "    </tr>\n",
       "  </tbody>\n",
       "</table>\n",
       "</div>"
      ],
      "text/plain": [
       "                   RAW DATA\n",
       "0                  What ifs\n",
       "1                 seniority\n",
       "2               familiarity\n",
       "3           functionalities\n",
       "4                   Lambdas\n",
       "5              Java Streams\n",
       "6  Object Oriented analysis\n",
       "7      Relational Databases\n",
       "8                       SQL\n",
       "9                       ORM"
      ]
     },
     "execution_count": 102,
     "metadata": {},
     "output_type": "execute_result"
    }
   ],
   "source": [
    "raw_skill_data = pd.read_csv ('Raw_Skills_Dataset.csv')\n",
    "raw_skill_data.head(10)"
   ]
  },
  {
   "cell_type": "code",
   "execution_count": 109,
   "id": "0b63caa0-b7ca-489c-8323-2ecd81f98f5f",
   "metadata": {},
   "outputs": [
    {
     "data": {
      "text/plain": [
       "34116"
      ]
     },
     "execution_count": 109,
     "metadata": {},
     "output_type": "execute_result"
    }
   ],
   "source": [
    "len(raw_skill_data)"
   ]
  },
  {
   "cell_type": "code",
   "execution_count": 103,
   "id": "ac05215a-1543-4c82-ac64-3bfabeed5932",
   "metadata": {},
   "outputs": [
    {
     "data": {
      "text/html": [
       "<div>\n",
       "<style scoped>\n",
       "    .dataframe tbody tr th:only-of-type {\n",
       "        vertical-align: middle;\n",
       "    }\n",
       "\n",
       "    .dataframe tbody tr th {\n",
       "        vertical-align: top;\n",
       "    }\n",
       "\n",
       "    .dataframe thead th {\n",
       "        text-align: right;\n",
       "    }\n",
       "</style>\n",
       "<table border=\"1\" class=\"dataframe\">\n",
       "  <thead>\n",
       "    <tr style=\"text-align: right;\">\n",
       "      <th></th>\n",
       "      <th>Technology Skills</th>\n",
       "    </tr>\n",
       "  </thead>\n",
       "  <tbody>\n",
       "    <tr>\n",
       "      <th>0</th>\n",
       "      <td>SAP Fiori Developer</td>\n",
       "    </tr>\n",
       "    <tr>\n",
       "      <th>1</th>\n",
       "      <td>Oracle Instance Management &amp; Strategy</td>\n",
       "    </tr>\n",
       "    <tr>\n",
       "      <th>2</th>\n",
       "      <td>Boomi Master Data Management</td>\n",
       "    </tr>\n",
       "    <tr>\n",
       "      <th>3</th>\n",
       "      <td>Digital Manufacturing on Cloud ( DMC)</td>\n",
       "    </tr>\n",
       "    <tr>\n",
       "      <th>4</th>\n",
       "      <td>DevOps</td>\n",
       "    </tr>\n",
       "    <tr>\n",
       "      <th>5</th>\n",
       "      <td>CA SAM</td>\n",
       "    </tr>\n",
       "    <tr>\n",
       "      <th>6</th>\n",
       "      <td>OpenShift</td>\n",
       "    </tr>\n",
       "    <tr>\n",
       "      <th>7</th>\n",
       "      <td>Acxiom Data Analytics</td>\n",
       "    </tr>\n",
       "    <tr>\n",
       "      <th>8</th>\n",
       "      <td>SAP Digital Boardroom</td>\n",
       "    </tr>\n",
       "    <tr>\n",
       "      <th>9</th>\n",
       "      <td>Seeburger BIS</td>\n",
       "    </tr>\n",
       "  </tbody>\n",
       "</table>\n",
       "</div>"
      ],
      "text/plain": [
       "                       Technology Skills\n",
       "0                    SAP Fiori Developer\n",
       "1  Oracle Instance Management & Strategy\n",
       "2           Boomi Master Data Management\n",
       "3  Digital Manufacturing on Cloud ( DMC)\n",
       "4                                 DevOps\n",
       "5                                 CA SAM\n",
       "6                              OpenShift\n",
       "7                  Acxiom Data Analytics\n",
       "8                  SAP Digital Boardroom\n",
       "9                          Seeburger BIS"
      ]
     },
     "execution_count": 103,
     "metadata": {},
     "output_type": "execute_result"
    }
   ],
   "source": [
    "sample_df = pd.read_csv ('Example_Technical_Skills.csv')\n",
    "sample_df.head(10)"
   ]
  },
  {
   "cell_type": "code",
   "execution_count": 104,
   "id": "3d6e899c-4af8-4426-8c4c-874260c96bfa",
   "metadata": {},
   "outputs": [],
   "source": [
    "def is_capital(raw_skill_list):\n",
    "    #checks to see that each word in the skill phrase is not capital\n",
    "    '''\n",
    "    Args:\n",
    "        raw_skill_list (series): strings to search in\n",
    "    \n",
    "    Returns:\n",
    "        NumPy array of 0s and 1s\n",
    "    '''\n",
    "    c = 0\n",
    "    indicator_arr = []\n",
    "    for skill in raw_skill_list:\n",
    "        c = 0\n",
    "        for word in skill.split():\n",
    "            if word[0].islower():\n",
    "                c+=1\n",
    "        if (c > 0):\n",
    "            indicator_arr.append(0)\n",
    "        else:\n",
    "            indicator_arr.append(1)\n",
    "        \n",
    "    return indicator_arr\n",
    "\n"
   ]
  },
  {
   "cell_type": "code",
   "execution_count": 105,
   "id": "ccdefce4-8a00-4f72-8774-62673f35c7a8",
   "metadata": {},
   "outputs": [
    {
     "name": "stdout",
     "output_type": "stream",
     "text": [
      "[0, 0, 0, 0, 1, 1, 0, 1, 1, 1]\n"
     ]
    }
   ],
   "source": [
    "X_train = is_capital(raw_skill_data['RAW DATA'])\n",
    "print(X_train[:10])\n"
   ]
  },
  {
   "cell_type": "code",
   "execution_count": 106,
   "id": "8402b4dd-4681-4b4b-a30c-718e67aad78a",
   "metadata": {},
   "outputs": [],
   "source": [
    "#Potential features: all words in phrase capitalized, several upper cases in each word(camel case, acronym)"
   ]
  },
  {
   "cell_type": "code",
   "execution_count": 107,
   "id": "6efd1bb9-5f5a-47b9-9d59-5694f4622ed1",
   "metadata": {},
   "outputs": [
    {
     "data": {
      "text/html": [
       "<div>\n",
       "<style scoped>\n",
       "    .dataframe tbody tr th:only-of-type {\n",
       "        vertical-align: middle;\n",
       "    }\n",
       "\n",
       "    .dataframe tbody tr th {\n",
       "        vertical-align: top;\n",
       "    }\n",
       "\n",
       "    .dataframe thead th {\n",
       "        text-align: right;\n",
       "    }\n",
       "</style>\n",
       "<table border=\"1\" class=\"dataframe\">\n",
       "  <thead>\n",
       "    <tr style=\"text-align: right;\">\n",
       "      <th></th>\n",
       "      <th>RAW DATA</th>\n",
       "      <th>tech</th>\n",
       "    </tr>\n",
       "  </thead>\n",
       "  <tbody>\n",
       "    <tr>\n",
       "      <th>0</th>\n",
       "      <td>What ifs</td>\n",
       "      <td>0</td>\n",
       "    </tr>\n",
       "    <tr>\n",
       "      <th>1</th>\n",
       "      <td>seniority</td>\n",
       "      <td>0</td>\n",
       "    </tr>\n",
       "    <tr>\n",
       "      <th>2</th>\n",
       "      <td>familiarity</td>\n",
       "      <td>0</td>\n",
       "    </tr>\n",
       "    <tr>\n",
       "      <th>3</th>\n",
       "      <td>functionalities</td>\n",
       "      <td>0</td>\n",
       "    </tr>\n",
       "    <tr>\n",
       "      <th>4</th>\n",
       "      <td>Lambdas</td>\n",
       "      <td>1</td>\n",
       "    </tr>\n",
       "    <tr>\n",
       "      <th>5</th>\n",
       "      <td>Java Streams</td>\n",
       "      <td>1</td>\n",
       "    </tr>\n",
       "    <tr>\n",
       "      <th>6</th>\n",
       "      <td>Object Oriented analysis</td>\n",
       "      <td>0</td>\n",
       "    </tr>\n",
       "    <tr>\n",
       "      <th>7</th>\n",
       "      <td>Relational Databases</td>\n",
       "      <td>1</td>\n",
       "    </tr>\n",
       "    <tr>\n",
       "      <th>8</th>\n",
       "      <td>SQL</td>\n",
       "      <td>1</td>\n",
       "    </tr>\n",
       "    <tr>\n",
       "      <th>9</th>\n",
       "      <td>ORM</td>\n",
       "      <td>1</td>\n",
       "    </tr>\n",
       "  </tbody>\n",
       "</table>\n",
       "</div>"
      ],
      "text/plain": [
       "                   RAW DATA  tech\n",
       "0                  What ifs     0\n",
       "1                 seniority     0\n",
       "2               familiarity     0\n",
       "3           functionalities     0\n",
       "4                   Lambdas     1\n",
       "5              Java Streams     1\n",
       "6  Object Oriented analysis     0\n",
       "7      Relational Databases     1\n",
       "8                       SQL     1\n",
       "9                       ORM     1"
      ]
     },
     "execution_count": 107,
     "metadata": {},
     "output_type": "execute_result"
    }
   ],
   "source": [
    "new_df = raw_skill_data\n",
    "new_df['tech'] = X_train\n",
    "new_df.head(10)"
   ]
  },
  {
   "cell_type": "code",
   "execution_count": 108,
   "id": "e5a090c5-7f46-4a21-b367-18359f6797dd",
   "metadata": {},
   "outputs": [
    {
     "data": {
      "text/plain": [
       "4                  Lambdas\n",
       "5             Java Streams\n",
       "7     Relational Databases\n",
       "8                      SQL\n",
       "9                      ORM\n",
       "10                    JPA2\n",
       "11               Hibernate\n",
       "12                 MyBatis\n",
       "13               Hibernate\n",
       "15       Git.. Familiarity\n",
       "16                   Maven\n",
       "17    Gradle.. Familiarity\n",
       "22             Familiarity\n",
       "55                  Python\n",
       "58                     SQL\n",
       "60     \n",
       " Relational Stores\n",
       "62                   MySQL\n",
       "63                  Oracle\n",
       "64            NoSQL Stores\n",
       "65         (i.e. Big Query\n",
       "Name: RAW DATA, dtype: object"
      ]
     },
     "execution_count": 108,
     "metadata": {},
     "output_type": "execute_result"
    }
   ],
   "source": [
    "technical_skills = new_df[new_df['tech'] == 1]['RAW DATA']\n",
    "technical_skills.head(20)"
   ]
  },
  {
   "cell_type": "code",
   "execution_count": 110,
   "id": "e1b14669-6a7e-4bfa-9c32-5dc501685953",
   "metadata": {},
   "outputs": [
    {
     "data": {
      "text/plain": [
       "12990"
      ]
     },
     "execution_count": 110,
     "metadata": {},
     "output_type": "execute_result"
    }
   ],
   "source": [
    "len(technical_skills)"
   ]
  }
 ],
 "metadata": {
  "kernelspec": {
   "display_name": "Python 3 (ipykernel)",
   "language": "python",
   "name": "python3"
  },
  "language_info": {
   "codemirror_mode": {
    "name": "ipython",
    "version": 3
   },
   "file_extension": ".py",
   "mimetype": "text/x-python",
   "name": "python",
   "nbconvert_exporter": "python",
   "pygments_lexer": "ipython3",
   "version": "3.9.12"
  }
 },
 "nbformat": 4,
 "nbformat_minor": 5
}
